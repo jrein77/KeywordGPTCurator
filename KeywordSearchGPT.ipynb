{
  "nbformat": 4,
  "nbformat_minor": 0,
  "metadata": {
    "colab": {
      "provenance": []
    },
    "kernelspec": {
      "name": "python3",
      "display_name": "Python 3"
    },
    "language_info": {
      "name": "python"
    }
  },
  "cells": [
    {
      "cell_type": "code",
      "source": [
        "!pip install feedparser\n",
        "!pip install urllib\n",
        "!pip install openai"
      ],
      "metadata": {
        "colab": {
          "base_uri": "https://localhost:8080/"
        },
        "id": "_j9o_V4a9uWr",
        "outputId": "d6d85aab-da43-4414-83b1-4b07906efcba"
      },
      "execution_count": 19,
      "outputs": [
        {
          "output_type": "stream",
          "name": "stdout",
          "text": [
            "Looking in indexes: https://pypi.org/simple, https://us-python.pkg.dev/colab-wheels/public/simple/\n",
            "Requirement already satisfied: feedparser in /usr/local/lib/python3.10/dist-packages (6.0.10)\n",
            "Requirement already satisfied: sgmllib3k in /usr/local/lib/python3.10/dist-packages (from feedparser) (1.0.0)\n",
            "Looking in indexes: https://pypi.org/simple, https://us-python.pkg.dev/colab-wheels/public/simple/\n",
            "\u001b[31mERROR: Could not find a version that satisfies the requirement urllib (from versions: none)\u001b[0m\u001b[31m\n",
            "\u001b[0m\u001b[31mERROR: No matching distribution found for urllib\u001b[0m\u001b[31m\n",
            "\u001b[0mLooking in indexes: https://pypi.org/simple, https://us-python.pkg.dev/colab-wheels/public/simple/\n",
            "Requirement already satisfied: openai in /usr/local/lib/python3.10/dist-packages (0.27.7)\n",
            "Requirement already satisfied: requests>=2.20 in /usr/local/lib/python3.10/dist-packages (from openai) (2.31.0)\n",
            "Requirement already satisfied: tqdm in /usr/local/lib/python3.10/dist-packages (from openai) (4.65.0)\n",
            "Requirement already satisfied: aiohttp in /usr/local/lib/python3.10/dist-packages (from openai) (3.8.4)\n",
            "Requirement already satisfied: charset-normalizer<4,>=2 in /usr/local/lib/python3.10/dist-packages (from requests>=2.20->openai) (2.0.12)\n",
            "Requirement already satisfied: idna<4,>=2.5 in /usr/local/lib/python3.10/dist-packages (from requests>=2.20->openai) (3.4)\n",
            "Requirement already satisfied: urllib3<3,>=1.21.1 in /usr/local/lib/python3.10/dist-packages (from requests>=2.20->openai) (1.26.15)\n",
            "Requirement already satisfied: certifi>=2017.4.17 in /usr/local/lib/python3.10/dist-packages (from requests>=2.20->openai) (2022.12.7)\n",
            "Requirement already satisfied: attrs>=17.3.0 in /usr/local/lib/python3.10/dist-packages (from aiohttp->openai) (23.1.0)\n",
            "Requirement already satisfied: multidict<7.0,>=4.5 in /usr/local/lib/python3.10/dist-packages (from aiohttp->openai) (6.0.4)\n",
            "Requirement already satisfied: async-timeout<5.0,>=4.0.0a3 in /usr/local/lib/python3.10/dist-packages (from aiohttp->openai) (4.0.2)\n",
            "Requirement already satisfied: yarl<2.0,>=1.0 in /usr/local/lib/python3.10/dist-packages (from aiohttp->openai) (1.9.2)\n",
            "Requirement already satisfied: frozenlist>=1.1.1 in /usr/local/lib/python3.10/dist-packages (from aiohttp->openai) (1.3.3)\n",
            "Requirement already satisfied: aiosignal>=1.1.2 in /usr/local/lib/python3.10/dist-packages (from aiohttp->openai) (1.3.1)\n"
          ]
        }
      ]
    },
    {
      "cell_type": "code",
      "execution_count": 20,
      "metadata": {
        "id": "BCQ8wSNq8aBU"
      },
      "outputs": [],
      "source": [
        "import os\n",
        "import nltk\n",
        "import requests\n",
        "import json\n",
        "import openai"
      ]
    },
    {
      "cell_type": "code",
      "source": [
        "os.environ['OPENAI_API_KEY'] = '...'\n",
        "openai.api_key = os.environ['OPENAI_API_KEY']"
      ],
      "metadata": {
        "id": "fOzHa-sI87D1"
      },
      "execution_count": 21,
      "outputs": []
    },
    {
      "cell_type": "code",
      "source": [
        "def fetch_articles_from_arxiv(query, max_results=10):\n",
        "    base_url = 'http://export.arxiv.org/api/query?'\n",
        "    query = urllib.parse.urlencode({\"search_query\": query, \"max_results\": max_results})\n",
        "    response = urllib.request.urlopen(base_url+query).read()\n",
        "    feed = feedparser.parse(response)\n",
        "    return feed.entries\n",
        "\n",
        "def generate_response(prompt):\n",
        "    response = openai.Completion.create(\n",
        "        engine=\"text-davinci-003\",\n",
        "        prompt=prompt,\n",
        "        max_tokens=1000,\n",
        "        n=1,\n",
        "        stop=None,\n",
        "        temperature=0.7,\n",
        "        frequency_penalty=0.0,\n",
        "        presence_penalty=0.0\n",
        "    )\n",
        "    return response.choices[0].text.strip()"
      ],
      "metadata": {
        "id": "eTkE-w4388zS"
      },
      "execution_count": 22,
      "outputs": []
    },
    {
      "cell_type": "code",
      "source": [
        "# Get user input for the search term\n",
        "search_term = input(\"Enter a term to search for related articles: \")\n",
        "\n",
        "# Fetch articles related to the search term\n",
        "articles = fetch_articles_from_arxiv(search_term)\n",
        "\n",
        "# Generate curation of articles using GPT-3\n",
        "curation_prompt = f\"Curate publications about {search_term} from the arXiv API and provide the correct citation, working link, and authors for each article in the response based on the content of the article:\\n\\n\"\n",
        "curation_prompt += \"\\n\".join(f\"- {article['title']}, {', '.join(author['name'] for author in article['authors'])}, {article['link']}\" for article in articles)\n",
        "\n",
        "# Generate response using GPT-3\n",
        "response = generate_response(curation_prompt)\n",
        "print(response)\n"
      ],
      "metadata": {
        "colab": {
          "base_uri": "https://localhost:8080/"
        },
        "id": "G02c_OxW8-1f",
        "outputId": "abdfd717-0694-4c10-9175-1a36b34776de"
      },
      "execution_count": 23,
      "outputs": [
        {
          "output_type": "stream",
          "name": "stdout",
          "text": [
            "Enter a term to search for related articles: Trust\n",
            "Citations:\n",
            "1. Rezaei Khavas, Z., Perkins, R., Ahmadzadeh, S.R., Robinette, P. Moral-Trust Violation vs Performance-Trust Violation by a Robot: Which Hurts More? arXiv preprint arXiv:2110.04418 (2021).\n",
            "2. Luo, R., Huang, C., Peng, Y., Song, B., Liu, R. Repairing Human Trust by Promptly Correcting Robot Mistakes with An Attention Transfer Model. arXiv preprint arXiv:2103.08025 (2021).\n",
            "3. Pavlovic, D. Dynamics, robustness and fragility of trust. arXiv preprint arXiv:0808.0732 (2008).\n",
            "4. Ghafari, S.M. Towards Time-Aware Context-Aware Deep Trust Prediction in Online Social Networks. arXiv preprint arXiv:2003.09543 (2020).\n",
            "5. Pal, S., Hill, A., Rabehaja, T., Hitchens, M. VeriBlock: A Blockchain-Based Verifiable Trust Management Architecture with Provable Interactions. arXiv preprint arXiv:2206.05676 (2021).\n",
            "6. Fan, X., Liu, L., Zhang, R., Jing, Q., Bi, J. Decentralized Trust Management: Risk Analysis and Trust Aggregation. arXiv preprint arXiv:1909.11355 (2019).\n",
            "7. Momani, M., Challa, S. Survey of trust models in different network domains. arXiv preprint arXiv:1010.0168 (2010).\n",
            "8. Bahutair, M., Bouguettaya, A., Ghari Neiat, A. Multi-Use Trust in Crowdsourced IoT Services. arXiv preprint arXiv:2203.07712 (2022).\n",
            "9. Avetisian, L., Ayoub, J., Zhou, F. Anticipated emotions associated with trust in autonomous vehicles. arXiv preprint arXiv:2206.09275 (2022).\n",
            "10. Hryniowski, A., Wang, X.Y., Wong, A. Where Does Trust Break Down? A Quantitative Trust Analysis of Deep Neural Networks via Trust Matrix and Conditional Trust Densities. arXiv preprint arXiv:2009.14701 (2020).\n"
          ]
        }
      ]
    }
  ]
}
