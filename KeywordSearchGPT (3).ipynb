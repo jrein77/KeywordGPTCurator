{
  "nbformat": 4,
  "nbformat_minor": 0,
  "metadata": {
    "colab": {
      "provenance": []
    },
    "kernelspec": {
      "name": "python3",
      "display_name": "Python 3"
    },
    "language_info": {
      "name": "python"
    }
  },
  "cells": [
    {
      "cell_type": "code",
      "source": [
        "!pip install feedparser\n",
        "!pip install urllib\n",
        "!pip install openai\n",
        "!pip install feedparser\n"
      ],
      "metadata": {
        "colab": {
          "base_uri": "https://localhost:8080/"
        },
        "id": "_j9o_V4a9uWr",
        "outputId": "d469f614-0879-453f-f148-25cd3281177b"
      },
      "execution_count": 9,
      "outputs": [
        {
          "output_type": "stream",
          "name": "stdout",
          "text": [
            "Looking in indexes: https://pypi.org/simple, https://us-python.pkg.dev/colab-wheels/public/simple/\n",
            "Requirement already satisfied: feedparser in /usr/local/lib/python3.10/dist-packages (6.0.10)\n",
            "Requirement already satisfied: sgmllib3k in /usr/local/lib/python3.10/dist-packages (from feedparser) (1.0.0)\n",
            "Looking in indexes: https://pypi.org/simple, https://us-python.pkg.dev/colab-wheels/public/simple/\n",
            "\u001b[31mERROR: Could not find a version that satisfies the requirement urllib (from versions: none)\u001b[0m\u001b[31m\n",
            "\u001b[0m\u001b[31mERROR: No matching distribution found for urllib\u001b[0m\u001b[31m\n",
            "\u001b[0mLooking in indexes: https://pypi.org/simple, https://us-python.pkg.dev/colab-wheels/public/simple/\n",
            "Requirement already satisfied: openai in /usr/local/lib/python3.10/dist-packages (0.27.7)\n",
            "Requirement already satisfied: requests>=2.20 in /usr/local/lib/python3.10/dist-packages (from openai) (2.27.1)\n",
            "Requirement already satisfied: tqdm in /usr/local/lib/python3.10/dist-packages (from openai) (4.65.0)\n",
            "Requirement already satisfied: aiohttp in /usr/local/lib/python3.10/dist-packages (from openai) (3.8.4)\n",
            "Requirement already satisfied: urllib3<1.27,>=1.21.1 in /usr/local/lib/python3.10/dist-packages (from requests>=2.20->openai) (1.26.15)\n",
            "Requirement already satisfied: certifi>=2017.4.17 in /usr/local/lib/python3.10/dist-packages (from requests>=2.20->openai) (2022.12.7)\n",
            "Requirement already satisfied: charset-normalizer~=2.0.0 in /usr/local/lib/python3.10/dist-packages (from requests>=2.20->openai) (2.0.12)\n",
            "Requirement already satisfied: idna<4,>=2.5 in /usr/local/lib/python3.10/dist-packages (from requests>=2.20->openai) (3.4)\n",
            "Requirement already satisfied: attrs>=17.3.0 in /usr/local/lib/python3.10/dist-packages (from aiohttp->openai) (23.1.0)\n",
            "Requirement already satisfied: multidict<7.0,>=4.5 in /usr/local/lib/python3.10/dist-packages (from aiohttp->openai) (6.0.4)\n",
            "Requirement already satisfied: async-timeout<5.0,>=4.0.0a3 in /usr/local/lib/python3.10/dist-packages (from aiohttp->openai) (4.0.2)\n",
            "Requirement already satisfied: yarl<2.0,>=1.0 in /usr/local/lib/python3.10/dist-packages (from aiohttp->openai) (1.9.2)\n",
            "Requirement already satisfied: frozenlist>=1.1.1 in /usr/local/lib/python3.10/dist-packages (from aiohttp->openai) (1.3.3)\n",
            "Requirement already satisfied: aiosignal>=1.1.2 in /usr/local/lib/python3.10/dist-packages (from aiohttp->openai) (1.3.1)\n",
            "Looking in indexes: https://pypi.org/simple, https://us-python.pkg.dev/colab-wheels/public/simple/\n",
            "Requirement already satisfied: feedparser in /usr/local/lib/python3.10/dist-packages (6.0.10)\n",
            "Requirement already satisfied: sgmllib3k in /usr/local/lib/python3.10/dist-packages (from feedparser) (1.0.0)\n"
          ]
        }
      ]
    },
    {
      "cell_type": "code",
      "execution_count": 10,
      "metadata": {
        "id": "BCQ8wSNq8aBU"
      },
      "outputs": [],
      "source": [
        "import os\n",
        "import nltk\n",
        "import requests\n",
        "import json\n",
        "import openai\n",
        "import urllib\n",
        "import feedparser"
      ]
    },
    {
      "cell_type": "code",
      "source": [
        "os.environ['OPENAI_API_KEY'] = '...'\n",
        "openai.api_key = os.environ['OPENAI_API_KEY']"
      ],
      "metadata": {
        "id": "fOzHa-sI87D1"
      },
      "execution_count": 11,
      "outputs": []
    },
    {
      "cell_type": "code",
      "source": [
        "def fetch_articles_from_arxiv(query, max_results=10):\n",
        "    base_url = 'http://export.arxiv.org/api/query?'\n",
        "    query = urllib.parse.urlencode({\"search_query\": query, \"max_results\": max_results})\n",
        "    response = urllib.request.urlopen(base_url+query).read()\n",
        "    feed = feedparser.parse(response)\n",
        "    return feed.entries\n",
        "\n",
        "def generate_response(prompt):\n",
        "    response = openai.Completion.create(\n",
        "        engine=\"text-davinci-003\",\n",
        "        prompt=prompt,\n",
        "        max_tokens=1000,\n",
        "        n=1,\n",
        "        stop=None,\n",
        "        temperature=0.7,\n",
        "        frequency_penalty=0.0,\n",
        "        presence_penalty=0.0\n",
        "    )\n",
        "    return response.choices[0].text.strip()"
      ],
      "metadata": {
        "id": "eTkE-w4388zS"
      },
      "execution_count": 12,
      "outputs": []
    },
    {
      "cell_type": "code",
      "source": [
        "# Get user input for the search term\n",
        "search_term = input(\"Enter a term to search for related articles: \")\n",
        "\n",
        "# Fetch articles related to the search term\n",
        "articles = fetch_articles_from_arxiv(search_term)\n",
        "\n",
        "# Generate curation of articles using GPT-3\n",
        "curation_prompt = f\"Curate publications about {search_term} from the arXiv API and provide the correct citation, working link, and authors for each article in the response based on the content of the article:\\n\\n\"\n",
        "curation_prompt += \"\\n\".join(f\"- {article['title']}, {', '.join(author['name'] for author in article['authors'])}, {article['link']}\" for article in articles)\n",
        "\n",
        "# Generate response using GPT-3\n",
        "response = generate_response(curation_prompt)\n",
        "print(response)\n"
      ],
      "metadata": {
        "colab": {
          "base_uri": "https://localhost:8080/"
        },
        "id": "G02c_OxW8-1f",
        "outputId": "71e6ab0f-8dc7-475a-b156-06fcdcb148ce"
      },
      "execution_count": 15,
      "outputs": [
        {
          "output_type": "stream",
          "name": "stdout",
          "text": [
            "Enter a term to search for related articles: information systems\n",
            "1. Spits Warnars H. L. H., \"Game Information System\", http://arxiv.org/abs/1006.1190v2\n",
            "\n",
            "2. Guangming Lang, Qingguo Li, \"Data Compression of Dynamic Set-Valued Information Systems\", http://arxiv.org/abs/1209.6509v1\n",
            "\n",
            "3. Mingjie Cai, Qingguo Li, Guangming Lang, \"Compression of Dynamic Fuzzy Relation Information Systems\", http://arxiv.org/abs/1210.0003v2\n",
            "\n",
            "4. Weimin Wang, Chong Xu, \"Analysis of Information Theoretic Limitation for Linear Time Invariant Feedback Systems\", http://arxiv.org/abs/1508.03776v1\n",
            "\n",
            "5. MohammadReza Molaei, \"The effect of an information system on the learning of the space structure\", http://arxiv.org/abs/1708.00483v1\n",
            "\n",
            "6. Masafumi Oizumi, Shun-ichi Amari, Toru Yanagawa, Naotaka Fujii, Naotsugu Tsuchiya, \"Measuring integrated information from the decoding perspective\", http://arxiv.org/abs/1505.04368v1\n",
            "\n",
            "7. Dieter Spreen, \"Information Systems with Witnesses: The Function Space Construction\", http://arxiv.org/abs/1702.05079v3\n",
            "\n",
            "8. Rohit Negi, \"A Theoretical Framework for Online Information Search\", http://arxiv.org/abs/2108.13302v1\n",
            "\n",
            "9. Marc Harper, \"Information Geometry and Evolutionary Game Theory\", http://arxiv.org/abs/0911.1383v1\n",
            "\n",
            "10. Xuechong Guan, Yongming Li, \"Information Algebra System of Soft Sets\", http://arxiv.org/abs/1201.2980v1\n"
          ]
        }
      ]
    }
  ]
}